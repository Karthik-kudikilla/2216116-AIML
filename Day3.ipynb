{
  "nbformat": 4,
  "nbformat_minor": 0,
  "metadata": {
    "colab": {
      "name": "Day3.ipynb",
      "provenance": [],
      "collapsed_sections": [],
      "authorship_tag": "ABX9TyOfpjYP4VQHCB0+Jav7fuhu",
      "include_colab_link": true
    },
    "kernelspec": {
      "name": "python3",
      "display_name": "Python 3"
    },
    "language_info": {
      "name": "python"
    }
  },
  "cells": [
    {
      "cell_type": "markdown",
      "metadata": {
        "id": "view-in-github",
        "colab_type": "text"
      },
      "source": [
        "<a href=\"https://colab.research.google.com/github/Karthik-kudikilla/2216116-AIML/blob/main/Day3.ipynb\" target=\"_parent\"><img src=\"https://colab.research.google.com/assets/colab-badge.svg\" alt=\"Open In Colab\"/></a>"
      ]
    },
    {
      "cell_type": "code",
      "execution_count": 1,
      "metadata": {
        "colab": {
          "base_uri": "https://localhost:8080/"
        },
        "id": "Gyph0vAZiXGg",
        "outputId": "0d7ea37b-962e-452a-f509-a146ee913c6f"
      },
      "outputs": [
        {
          "output_type": "stream",
          "name": "stdout",
          "text": [
            "Addition of 2 no.s= 9\n",
            "Subraction of 2 no.s= -7\n"
          ]
        }
      ],
      "source": [
        "#class & object\n",
        "class CO:\n",
        "  def subn(self,a,b):\n",
        "    return a-b\n",
        "  def addn(self,a,b):\n",
        "    return a+b\n",
        "obj=CO()\n",
        "print('Addition of 2 no.s=',obj.addn(1,8))\n",
        "print('Subraction of 2 no.s=',obj.subn(1,8))"
      ]
    },
    {
      "cell_type": "code",
      "source": [
        "class cal:\n",
        "  def subn(self,a,b):\n",
        "    return a-b\n",
        "  def addn(self,a,b):\n",
        "    return a+b\n",
        "  def mul(self,a,b):\n",
        "    return a*b\n",
        "  def div(self,a,b):\n",
        "    return a//b\n",
        "  def pow(self,a,b):\n",
        "    return a**b\n",
        "  def mod(self,a,b):\n",
        "    return a%b\n",
        "\n",
        "obj=cal()\n",
        "\n",
        "print('Addition of 2 no.s=',obj.addn(1,8))\n",
        "print('Subraction of 2 no.s=',obj.subn(1,8)) \n",
        "print('MUl of 2 no.s=',obj.mul(1,8))\n",
        "print('Division of 2 no.s=',obj.div(3,2))\n",
        "print('Power=',obj.pow(2,3))\n",
        "print('Modulus of 2 no.s=',obj.mod(1,8))"
      ],
      "metadata": {
        "colab": {
          "base_uri": "https://localhost:8080/"
        },
        "id": "NUV_YQ0eiu7u",
        "outputId": "e72ca943-c4a7-4327-e80a-fa7a3caa38ab"
      },
      "execution_count": 2,
      "outputs": [
        {
          "output_type": "stream",
          "name": "stdout",
          "text": [
            "Addition of 2 no.s= 9\n",
            "Subraction of 2 no.s= -7\n",
            "MUl of 2 no.s= 8\n",
            "Division of 2 no.s= 1\n",
            "Power= 8\n",
            "Modulus of 2 no.s= 1\n"
          ]
        }
      ]
    },
    {
      "cell_type": "code",
      "source": [
        "class animal:\n",
        "  def animal_sounds(self):\n",
        "    return \"makes spund\"\n",
        "class cat(animal):\n",
        "  def cat_sound(self):\n",
        "    return self.animal_sounds()+\" MEOW\"\n",
        "  def __str__(self):\n",
        "    return \"CAT\"\n",
        "\n",
        "class dog(animal):\n",
        "  def dog_sound(self):\n",
        "    return self.animal_sounds()+\" BOW\"\n",
        "  def __str__(self):\n",
        "    return \"DOG\"  \n",
        "\n",
        "catobj=cat()\n",
        "print(catobj,catobj.cat_sound())\n",
        "dogobj=dog()\n",
        "print(dogobj,dogobj.dog_sound())"
      ],
      "metadata": {
        "colab": {
          "base_uri": "https://localhost:8080/"
        },
        "id": "NHejPzsEiwrO",
        "outputId": "6c528ead-7451-4c1d-97d0-b330fd1e3e8b"
      },
      "execution_count": 3,
      "outputs": [
        {
          "output_type": "stream",
          "name": "stdout",
          "text": [
            "CAT makes spund MEOW\n",
            "DOG makes spund BOW\n"
          ]
        }
      ]
    },
    {
      "cell_type": "code",
      "source": [
        "class animal:\n",
        "  def animal_sounds(self):\n",
        "    return \"makes spund\"\n",
        "\n",
        "class cat(animal):\n",
        "  def cat_sound(self):\n",
        "    return self.animal_sounds()+\" MEOW\"\n",
        "class catcolor(cat):\n",
        "    def __str__(self):\n",
        "      return \"CAT\"\n",
        "    def color(self):\n",
        "      return \"Color is BLACK\"\n",
        "\n",
        "class dog(animal):\n",
        "  def dog_sound(self):\n",
        "    return self.animal_sounds()+\" BOW\"\n",
        "  def __str__(self):\n",
        "    return \"DOG\"\n",
        "  def color(self):\n",
        "    return \"Color is WHITE\"\n",
        "class dogcolor(dog):\n",
        "  def animal_sounds(self):\n",
        "    return \"makes spund\"\n",
        "\n",
        "catobj=catcolor()\n",
        "print(catobj,catobj.cat_sound())\n",
        "print(catobj,catobj.color())\n",
        "\n",
        "dogobj=dogcolor()\n",
        "print(dogobj,dogobj.dog_sound())\n",
        "print(dogobj,dogobj.color())"
      ],
      "metadata": {
        "colab": {
          "base_uri": "https://localhost:8080/"
        },
        "id": "QUsivkeqi1m8",
        "outputId": "38e95b1e-c7d9-4fc1-a8a4-d280c95c5166"
      },
      "execution_count": 4,
      "outputs": [
        {
          "output_type": "stream",
          "name": "stdout",
          "text": [
            "CAT makes spund MEOW\n",
            "CAT Color is BLACK\n",
            "DOG makes spund BOW\n",
            "DOG Color is WHITE\n"
          ]
        }
      ]
    },
    {
      "cell_type": "code",
      "source": [
        "try:\n",
        "  print(x)\n",
        "except NameError as ne: #NameError = keyword\n",
        "  print(\"Exception occured\",ne)\n",
        "print(\"Executed\")"
      ],
      "metadata": {
        "colab": {
          "base_uri": "https://localhost:8080/"
        },
        "id": "2qJ9NTmxi7U4",
        "outputId": "b7f261ad-85ac-4d0d-a031-e886cd8a7e94"
      },
      "execution_count": 5,
      "outputs": [
        {
          "output_type": "stream",
          "name": "stdout",
          "text": [
            "Exception occured name 'x' is not defined\n",
            "Executed\n"
          ]
        }
      ]
    },
    {
      "cell_type": "code",
      "source": [
        "#value error\n",
        "a='25 xyz'\n",
        "try:\n",
        "  print(int(a))\n",
        "except ValueError as e:\n",
        "  print(e)"
      ],
      "metadata": {
        "colab": {
          "base_uri": "https://localhost:8080/"
        },
        "id": "umwTBidRi_ot",
        "outputId": "ca411afe-0730-4c0c-b9f8-0255424cfba1"
      },
      "execution_count": 6,
      "outputs": [
        {
          "output_type": "stream",
          "name": "stdout",
          "text": [
            "invalid literal for int() with base 10: '25 xyz'\n"
          ]
        }
      ]
    },
    {
      "cell_type": "code",
      "source": [
        "#2003\n",
        "class INVALIDSTUDENTID(Exception):\n",
        "  pass\n",
        "stid=input(\"Enter student id\")\n",
        "try:\n",
        "  if stid[:4]!='2003':\n",
        "    raise INVALIDSTUDENTID\n",
        "except INVALIDSTUDENTID:\n",
        "  print(\"Error raised due to invalid details\")\n",
        "print(\"Details verified\")"
      ],
      "metadata": {
        "colab": {
          "base_uri": "https://localhost:8080/"
        },
        "id": "Iz6-W0-hjEtj",
        "outputId": "d69c31fb-9eaf-477c-f0a4-123de0d6550f"
      },
      "execution_count": 7,
      "outputs": [
        {
          "output_type": "stream",
          "name": "stdout",
          "text": [
            "Enter student id2003a51058\n",
            "Details verified\n"
          ]
        }
      ]
    },
    {
      "cell_type": "code",
      "source": [
        "class INVALIDSTUDENTID(Exception):\n",
        "  def __self__(self):\n",
        "    return \"Error Raised\"\n",
        "stid=input(\"Enter student id\")\n",
        "try:\n",
        "  if stid[:4]!='2003':\n",
        "    raise INVALIDSTUDENTID\n",
        "except INVALIDSTUDENTID:\n",
        "  print(\"Invalid\")\n",
        "print(\"Details verified\")"
      ],
      "metadata": {
        "colab": {
          "base_uri": "https://localhost:8080/"
        },
        "id": "5-K6uyJRjMTA",
        "outputId": "f5246516-894a-41c5-eb9b-4565ec5303ac"
      },
      "execution_count": 8,
      "outputs": [
        {
          "output_type": "stream",
          "name": "stdout",
          "text": [
            "Enter student id18k156\n",
            "Invalid\n",
            "Details verified\n"
          ]
        }
      ]
    },
    {
      "cell_type": "code",
      "source": [
        "class NotEligible(Exception):\n",
        "  def __self__(self):\n",
        "    return \"Error raised\"\n",
        "    \n",
        "age=int(input(\"Enter your age: \"))\n",
        "try:\n",
        "  if age<18:\n",
        "    raise NotEligible\n",
        "except NotEligible:\n",
        "  print(\"NOT Eligible for Voting\")"
      ],
      "metadata": {
        "colab": {
          "base_uri": "https://localhost:8080/"
        },
        "id": "oXRLVy7tjUMy",
        "outputId": "e32ce40d-168a-4c62-9c69-a8366bb65581"
      },
      "execution_count": 9,
      "outputs": [
        {
          "name": "stdout",
          "output_type": "stream",
          "text": [
            "Enter your age: 18\n"
          ]
        }
      ]
    },
    {
      "cell_type": "code",
      "source": [
        "f=open(\"sample.txt\",\"w\")"
      ],
      "metadata": {
        "id": "3sj1b4EYjZcl"
      },
      "execution_count": 10,
      "outputs": []
    },
    {
      "cell_type": "code",
      "source": [
        "f=open(\"sample.txt\",\"w\")\n",
        "f.write(\"WELCOME\")\n",
        "f.close()"
      ],
      "metadata": {
        "id": "TP6D9R5ajhsX"
      },
      "execution_count": 11,
      "outputs": []
    },
    {
      "cell_type": "code",
      "source": [
        "f=open(\"sample.txt\",\"r\")\n",
        "print(f.read(3))\n",
        "print(f.tell())\n",
        "print(f.seek(2))\n",
        "print(f.seek(0))\n",
        "print(f.readline())\n",
        "print(f.readlines())\n",
        "f.close()"
      ],
      "metadata": {
        "colab": {
          "base_uri": "https://localhost:8080/"
        },
        "id": "u17r8bRmjjSQ",
        "outputId": "1dc2f104-7724-4eb0-d434-c8623d9b6850"
      },
      "execution_count": 12,
      "outputs": [
        {
          "output_type": "stream",
          "name": "stdout",
          "text": [
            "WEL\n",
            "3\n",
            "2\n",
            "0\n",
            "WELCOME\n",
            "[]\n"
          ]
        }
      ]
    },
    {
      "cell_type": "code",
      "source": [
        "f1=open(\"sample1.txt\",\"w+\")\n",
        "f1.write(\"123456789\")\n",
        "f1.read()\n",
        "for i in f1:\n",
        "  while(i!=''):\n",
        "    if(i%2!=0):\n",
        "      print(i)\n",
        "\n",
        "f1.close()"
      ],
      "metadata": {
        "id": "DeOXFMBsjm7X"
      },
      "execution_count": 13,
      "outputs": []
    },
    {
      "cell_type": "code",
      "source": [
        "#pickle\n",
        "#pickling\n",
        "import pickle\n",
        "mylist=['a','b','c','d']\n",
        "f3=open(\"datafile1.txt\",\"wb\")  # with open(\"datafile2.txt\",\"wb\") as f3:\n",
        "pickle.dump(mylist,f3)\n",
        "f3.close()\n",
        "\n",
        "#unpickling\n",
        "import pickle\n",
        "pickle_off=open(\"datafile1.txt\",\"rb\")\n",
        "e=pickle.load(pickle_off)\n",
        "print(e)"
      ],
      "metadata": {
        "colab": {
          "base_uri": "https://localhost:8080/"
        },
        "id": "b5AEH1cZjsEe",
        "outputId": "f464c94c-3d4f-4fd0-ceef-f84243163824"
      },
      "execution_count": 14,
      "outputs": [
        {
          "output_type": "stream",
          "name": "stdout",
          "text": [
            "['a', 'b', 'c', 'd']\n"
          ]
        }
      ]
    },
    {
      "cell_type": "code",
      "source": [
        "import re\n",
        "pattern=r\"COOKIE\"\n",
        "sequence=(\"COOKIE\")\n",
        "if re.match(pattern,sequence):\n",
        "  print(\"MATCHING\")\n",
        "else:\n",
        "  print(\"NOT MATCHING\")"
      ],
      "metadata": {
        "colab": {
          "base_uri": "https://localhost:8080/"
        },
        "id": "ITANVPPCjvZt",
        "outputId": "3aa175f7-d6e6-43cf-8bff-57234dcdf9fe"
      },
      "execution_count": 15,
      "outputs": [
        {
          "output_type": "stream",
          "name": "stdout",
          "text": [
            "MATCHING\n"
          ]
        }
      ]
    },
    {
      "cell_type": "code",
      "source": [
        "import re\n",
        "ph_no=input(\"Enter ur ph_no: \")\n",
        "print(re.search(r'\\d{10}',ph_no).group())"
      ],
      "metadata": {
        "colab": {
          "base_uri": "https://localhost:8080/"
        },
        "id": "ZrHOhjC0jw6T",
        "outputId": "38420418-4ad1-4aa1-d265-118a3ee14118"
      },
      "execution_count": 16,
      "outputs": [
        {
          "output_type": "stream",
          "name": "stdout",
          "text": [
            "Enter ur ph_no: 9652765234\n",
            "9652765234\n"
          ]
        }
      ]
    },
    {
      "cell_type": "code",
      "source": [
        "import re\n",
        "mail=input(\"Emter mail:\")\n",
        "str1=r'[A-Za-z0-9.-_]+@[A-Za-z0-9.-]+[A-Z|a-z]'\n",
        "print(re.search(str1,mail).group())"
      ],
      "metadata": {
        "colab": {
          "base_uri": "https://localhost:8080/"
        },
        "id": "-owfovEXj2uY",
        "outputId": "40a9ae7a-2f89-47bf-e82e-3b5a34ab4257"
      },
      "execution_count": 17,
      "outputs": [
        {
          "output_type": "stream",
          "name": "stdout",
          "text": [
            "Emter mail:karthikkudikilla700@gmail.com\n",
            "karthikkudikilla700@gmail.com\n"
          ]
        }
      ]
    }
  ]
}