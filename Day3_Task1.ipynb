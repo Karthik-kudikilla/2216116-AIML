{
  "nbformat": 4,
  "nbformat_minor": 0,
  "metadata": {
    "colab": {
      "name": "Day3_Task1.ipynb",
      "provenance": [],
      "authorship_tag": "ABX9TyOGq26hX//i8Ok2p0quVV6N",
      "include_colab_link": true
    },
    "kernelspec": {
      "name": "python3",
      "display_name": "Python 3"
    },
    "language_info": {
      "name": "python"
    }
  },
  "cells": [
    {
      "cell_type": "markdown",
      "metadata": {
        "id": "view-in-github",
        "colab_type": "text"
      },
      "source": [
        "<a href=\"https://colab.research.google.com/github/Karthik-kudikilla/2216116-AIML/blob/main/Day3_Task1.ipynb\" target=\"_parent\"><img src=\"https://colab.research.google.com/assets/colab-badge.svg\" alt=\"Open In Colab\"/></a>"
      ]
    },
    {
      "cell_type": "code",
      "source": [
        "f=open('task.txt','w')\n",
        "f.write('karthik is a good boy')\n",
        "f.close()"
      ],
      "metadata": {
        "id": "kAMmxwGpkzOt"
      },
      "execution_count": 1,
      "outputs": []
    },
    {
      "cell_type": "code",
      "source": [
        "f=open('task.txt','r')\n",
        "data=f.read()\n",
        "for i in range(len(data)):\n",
        "    if i%2!=0:\n",
        "        print(data[i],end=' ')\n",
        "\n"
      ],
      "metadata": {
        "colab": {
          "base_uri": "https://localhost:8080/"
        },
        "id": "QMOmzLK8lQ4W",
        "outputId": "1fd39139-c1ee-438a-f450-a7d72180c34d"
      },
      "execution_count": 2,
      "outputs": [
        {
          "output_type": "stream",
          "name": "stdout",
          "text": [
            "a t i   s a g o   o "
          ]
        }
      ]
    }
  ]
}