{
  "nbformat": 4,
  "nbformat_minor": 0,
  "metadata": {
    "colab": {
      "name": "assignment1.ipynb",
      "provenance": [],
      "collapsed_sections": [],
      "authorship_tag": "ABX9TyPsCDn9rSPyzk+WOZJiDX59",
      "include_colab_link": true
    },
    "kernelspec": {
      "name": "python3",
      "display_name": "Python 3"
    },
    "language_info": {
      "name": "python"
    }
  },
  "cells": [
    {
      "cell_type": "markdown",
      "metadata": {
        "id": "view-in-github",
        "colab_type": "text"
      },
      "source": [
        "<a href=\"https://colab.research.google.com/github/Karthik-kudikilla/2216116-AIML/blob/main/assignment1.ipynb\" target=\"_parent\"><img src=\"https://colab.research.google.com/assets/colab-badge.svg\" alt=\"Open In Colab\"/></a>"
      ]
    },
    {
      "cell_type": "markdown",
      "source": [
        "1. Implement the methods of String with examples"
      ],
      "metadata": {
        "id": "JegPNJlfdivH"
      }
    },
    {
      "cell_type": "code",
      "source": [
        "str1='karthik is a good boy '\n",
        "print(str1.upper())\n",
        "\n",
        "print(str1.lower())\n",
        "\n",
        "print(str1.title())\n",
        "\n",
        "print(str1.capitalize())\n",
        "\n",
        "#strip\n",
        "s='aaaaakarthikaaaa'\n",
        "print(s.strip('a'))\n",
        "print(s.lstrip('a'))\n",
        "print(s.rstrip('a'))\n",
        "\n",
        "#count\n",
        "print(s.count('a'))\n",
        "\n",
        "\n",
        "k=str1.isalnum()\n",
        "print(k)\n",
        "k=str1.isalpha()\n",
        "print(k)"
      ],
      "metadata": {
        "colab": {
          "base_uri": "https://localhost:8080/"
        },
        "id": "PolC8-zRdlGN",
        "outputId": "94174cf1-b1ca-4150-a731-976609c47a1a"
      },
      "execution_count": 11,
      "outputs": [
        {
          "output_type": "stream",
          "name": "stdout",
          "text": [
            "KARTHIK IS A GOOD BOY \n",
            "karthik is a good boy \n",
            "Karthik Is A Good Boy \n",
            "Karthik is a good boy \n",
            "karthik\n",
            "karthikaaaa\n",
            "aaaaakarthik\n",
            "10\n",
            "False\n",
            "False\n"
          ]
        }
      ]
    },
    {
      "cell_type": "markdown",
      "source": [
        "2. Implement the methods of List with examples."
      ],
      "metadata": {
        "id": "ivjqLCHygRbz"
      }
    },
    {
      "cell_type": "code",
      "source": [
        "l=[1,2,3,'karthik','apple']\n",
        "print(l)\n",
        "#methods of adding an elements into the list\n",
        "l.append(2.3)\n",
        "print(l)\n",
        "\n",
        "l.insert(2,9.5)\n",
        "print(l)\n",
        "\n",
        "l.extend([4,5,6])\n",
        "print(l)\n",
        "#Methods to delete the list elements\n",
        "l.pop()\n",
        "print(l)\n",
        "l.pop(0)\n",
        "print(l)\n",
        "l.remove(3)\n",
        "print(l)\n",
        "\n",
        "#reversing\n",
        "l.reverse()\n",
        "print(l)\n",
        "\n",
        "#index\n",
        "print(l.index('karthik'))\n",
        "l.clear()\n",
        "print(l)"
      ],
      "metadata": {
        "colab": {
          "base_uri": "https://localhost:8080/"
        },
        "id": "-_kVx5-rgS1n",
        "outputId": "8e495175-7e95-4b46-d53b-d5530c0c7ecb"
      },
      "execution_count": 19,
      "outputs": [
        {
          "output_type": "stream",
          "name": "stdout",
          "text": [
            "[1, 2, 3, 'karthik', 'apple']\n",
            "[1, 2, 3, 'karthik', 'apple', 2.3]\n",
            "[1, 2, 9.5, 3, 'karthik', 'apple', 2.3]\n",
            "[1, 2, 9.5, 3, 'karthik', 'apple', 2.3, 4, 5, 6]\n",
            "[1, 2, 9.5, 3, 'karthik', 'apple', 2.3, 4, 5]\n",
            "[2, 9.5, 3, 'karthik', 'apple', 2.3, 4, 5]\n",
            "[2, 9.5, 'karthik', 'apple', 2.3, 4, 5]\n",
            "[5, 4, 2.3, 'apple', 'karthik', 9.5, 2]\n",
            "4\n",
            "[]\n"
          ]
        }
      ]
    },
    {
      "cell_type": "markdown",
      "source": [
        "3. Implement the methods of Tuple with examples"
      ],
      "metadata": {
        "id": "ski91V90ilEJ"
      }
    },
    {
      "cell_type": "code",
      "source": [
        "t=(1,2,3,'karthik',1,1,2.5)\n",
        "print(t)\n",
        "print('The value 1 is repeated',t.count(1),'times in the tuple')\n",
        "print('The index of value karthik is :',t.index('karthik'))\n"
      ],
      "metadata": {
        "colab": {
          "base_uri": "https://localhost:8080/"
        },
        "id": "eQm46iYnipwG",
        "outputId": "4e5d79ba-6d91-4217-bbf1-3bc498a4b3c3"
      },
      "execution_count": 22,
      "outputs": [
        {
          "output_type": "stream",
          "name": "stdout",
          "text": [
            "(1, 2, 3, 'karthik', 1, 1, 2.5)\n",
            "The value 1 is repeated 3 times in the tuple\n",
            "The index of value karthik is : 3\n"
          ]
        }
      ]
    },
    {
      "cell_type": "markdown",
      "source": [
        "4. Implement the methods of Dictionary with examples."
      ],
      "metadata": {
        "id": "QBO7CndWjwY2"
      }
    },
    {
      "cell_type": "code",
      "source": [
        "bd={'name':'karthik','age':20,'phnno':9652765367}\n",
        "print(bd)\n",
        "\n",
        "print(bd.keys())\n",
        "\n",
        "print(bd.values())\n",
        "\n",
        "bd.pop('name')\n",
        "print(bd)\n",
        "\n",
        "bd.popitem()\n",
        "print(bd)\n",
        "x=bd.copy()\n",
        "print(x)\n",
        "\n",
        "x.update({'address':'Hyderabad'})\n",
        "print(x)\n",
        "\n",
        "print(x.items())\n",
        "\n",
        "x.clear()\n",
        "print(x)"
      ],
      "metadata": {
        "colab": {
          "base_uri": "https://localhost:8080/"
        },
        "id": "32kuFCnwjz3H",
        "outputId": "ef775a3e-d29f-44fc-89d1-e5c180c68467"
      },
      "execution_count": 35,
      "outputs": [
        {
          "output_type": "stream",
          "name": "stdout",
          "text": [
            "{'name': 'karthik', 'age': 20, 'phnno': 9652765367}\n",
            "dict_keys(['name', 'age', 'phnno'])\n",
            "dict_values(['karthik', 20, 9652765367])\n",
            "{'age': 20, 'phnno': 9652765367}\n",
            "{'age': 20}\n",
            "{'age': 20}\n",
            "{'age': 20, 'address': 'Hyderabad'}\n",
            "dict_items([('age', 20), ('address', 'Hyderabad')])\n",
            "{}\n"
          ]
        }
      ]
    },
    {
      "cell_type": "markdown",
      "source": [
        "5. Implement the methods of Set with examples.\n"
      ],
      "metadata": {
        "id": "cGzPCO0mo-SB"
      }
    },
    {
      "cell_type": "code",
      "source": [
        "s={1,2,3,'karthik',2.5}\n",
        "p={}\n",
        "print(s)\n",
        "s.add(4)\n",
        "print(s)\n",
        "l=(3,5.6,'karthik')\n",
        "print(s.union(l))\n",
        "\n",
        "print(s.intersection(l))\n",
        "\n",
        "print(s.difference(l))\n",
        "\n",
        "s.remove('karthik')\n",
        "\n",
        "s.update({25,'karthik'})\n",
        "\n",
        "p=s.copy\n",
        "print(p)\n"
      ],
      "metadata": {
        "colab": {
          "base_uri": "https://localhost:8080/"
        },
        "id": "vdbFIdqeo_My",
        "outputId": "9de93cc9-d627-46fa-8d32-8be83b7ea2aa"
      },
      "execution_count": 42,
      "outputs": [
        {
          "output_type": "stream",
          "name": "stdout",
          "text": [
            "{1, 2.5, 2, 3, 'karthik'}\n",
            "{1, 2.5, 2, 3, 4, 'karthik'}\n",
            "{1, 2.5, 2, 3, 4, 5.6, 'karthik'}\n",
            "{3, 'karthik'}\n",
            "{1, 2.5, 2, 4}\n",
            "<built-in method copy of set object at 0x7ff7c82bdc80>\n"
          ]
        }
      ]
    },
    {
      "cell_type": "markdown",
      "source": [
        "6. Write a python program to convert Decimal to Binary, Octal and Hexadecimal with direct method."
      ],
      "metadata": {
        "id": "cLaTcwoPqq4i"
      }
    },
    {
      "cell_type": "code",
      "source": [
        "k=25\n",
        "print(bin(k))\n",
        "print(oct(k))\n",
        "print(hex(k))"
      ],
      "metadata": {
        "colab": {
          "base_uri": "https://localhost:8080/"
        },
        "id": "zBzt3WZgq7aQ",
        "outputId": "901cc947-e1e0-46e9-8147-aba48e9dc05e"
      },
      "execution_count": 44,
      "outputs": [
        {
          "output_type": "stream",
          "name": "stdout",
          "text": [
            "0b11001\n",
            "0o31\n",
            "0x19\n"
          ]
        }
      ]
    },
    {
      "cell_type": "markdown",
      "source": [
        "7. Implement Arithmetic operators with examples."
      ],
      "metadata": {
        "id": "WKbT8-8crpJR"
      }
    },
    {
      "cell_type": "code",
      "source": [
        "a=int(input('Enter a number'))\n",
        "b=int(input('Enter another number'))\n",
        "#addition\n",
        "print(a+b)\n",
        "#substraction\n",
        "print(a-b)\n",
        "#multiplication\n",
        "print(a*b)\n",
        "#division\n",
        "print(a/b)\n",
        "#floor divisoin\n",
        "print(a//b)\n",
        "#power\n",
        "print(a**3)"
      ],
      "metadata": {
        "colab": {
          "base_uri": "https://localhost:8080/"
        },
        "id": "q27Rr-bprqdq",
        "outputId": "a01b290e-989c-491f-821a-6a872d695f54"
      },
      "execution_count": 46,
      "outputs": [
        {
          "output_type": "stream",
          "name": "stdout",
          "text": [
            "Enter a number9\n",
            "Enter another number6\n",
            "15\n",
            "3\n",
            "54\n",
            "1.5\n",
            "1\n",
            "729\n"
          ]
        }
      ]
    },
    {
      "cell_type": "markdown",
      "source": [
        "8. Implement Assignment operators with examples."
      ],
      "metadata": {
        "id": "QLE6LtX1sXaD"
      }
    },
    {
      "cell_type": "code",
      "source": [
        "a=10\n",
        "b=20\n",
        "print('a , b')\n",
        "print(a,b)\n",
        "a+=b\n",
        "print(a,b)\n",
        "a-=b\n",
        "print(a,b)\n",
        "a*=b\n",
        "print(a,b)\n",
        "a/=b\n",
        "print(a,b)\n",
        "a//=b\n",
        "print(a,b)\n",
        "\n"
      ],
      "metadata": {
        "colab": {
          "base_uri": "https://localhost:8080/"
        },
        "id": "8asf2FkWsdu_",
        "outputId": "3f48a943-21c9-4c70-f678-44e0b816e738"
      },
      "execution_count": 51,
      "outputs": [
        {
          "output_type": "stream",
          "name": "stdout",
          "text": [
            "a , b\n",
            "10 20\n",
            "30 20\n",
            "10 20\n",
            "200 20\n",
            "10.0 20\n",
            "0.0 20\n"
          ]
        }
      ]
    },
    {
      "cell_type": "markdown",
      "source": [
        "9. Implement Comparison operators with examples."
      ],
      "metadata": {
        "id": "fLn6ACzGtRYr"
      }
    },
    {
      "cell_type": "code",
      "source": [
        "a=10\n",
        "b=20\n",
        "print(a>b)\n",
        "print(a<b)\n",
        "print(a>=b)\n",
        "print(a<=b)\n",
        "print(a!=b)\n"
      ],
      "metadata": {
        "colab": {
          "base_uri": "https://localhost:8080/"
        },
        "id": "a2O_8kVBtSM0",
        "outputId": "fd20cc27-8882-4ecb-8f94-37c721afc0dd"
      },
      "execution_count": 52,
      "outputs": [
        {
          "output_type": "stream",
          "name": "stdout",
          "text": [
            "False\n",
            "True\n",
            "False\n",
            "True\n",
            "True\n"
          ]
        }
      ]
    },
    {
      "cell_type": "markdown",
      "source": [
        "10. Implement Logical operators with examples."
      ],
      "metadata": {
        "id": "oe2fKBEyts7S"
      }
    },
    {
      "cell_type": "code",
      "source": [
        "a,b=10,20\n",
        "print(a>b and b>a)\n",
        "print(a>b or b>a)\n",
        "print(not (a>b))"
      ],
      "metadata": {
        "colab": {
          "base_uri": "https://localhost:8080/"
        },
        "id": "ArmnvCjBttjD",
        "outputId": "0ec1c59a-344e-40fb-d581-d4aa5fa606cc"
      },
      "execution_count": 53,
      "outputs": [
        {
          "output_type": "stream",
          "name": "stdout",
          "text": [
            "False\n",
            "True\n",
            "True\n"
          ]
        }
      ]
    },
    {
      "cell_type": "markdown",
      "source": [
        "11. Implement Bitwise operators with examples."
      ],
      "metadata": {
        "id": "DFEVROS0u38M"
      }
    },
    {
      "cell_type": "code",
      "source": [
        "a=2\n",
        "b=3\n",
        "print(a&b)\n",
        "print(a|b)\n",
        "print(~a)\n",
        "print(a<<2)\n",
        "print(b>>3)"
      ],
      "metadata": {
        "colab": {
          "base_uri": "https://localhost:8080/"
        },
        "id": "hw_vj09Qu426",
        "outputId": "96459d3d-3e3d-4209-ccb6-c89c9ce2d5b5"
      },
      "execution_count": 57,
      "outputs": [
        {
          "output_type": "stream",
          "name": "stdout",
          "text": [
            "2\n",
            "3\n",
            "-3\n",
            "8\n",
            "0\n"
          ]
        }
      ]
    },
    {
      "cell_type": "markdown",
      "source": [
        "12. Implement Membership operators with examples."
      ],
      "metadata": {
        "id": "zByoyFzDvONI"
      }
    },
    {
      "cell_type": "code",
      "source": [
        "s='Gradstellar'\n",
        "print('a' in s)\n",
        "print('c' not in s)"
      ],
      "metadata": {
        "colab": {
          "base_uri": "https://localhost:8080/"
        },
        "id": "Dj7f7YUlvPnd",
        "outputId": "e2012e83-8554-4344-a924-da33efc623aa"
      },
      "execution_count": 58,
      "outputs": [
        {
          "output_type": "stream",
          "name": "stdout",
          "text": [
            "True\n",
            "True\n"
          ]
        }
      ]
    },
    {
      "cell_type": "markdown",
      "source": [
        "13. Implement Identity operators with examples"
      ],
      "metadata": {
        "id": "yUMlqhdovlCh"
      }
    },
    {
      "cell_type": "code",
      "source": [
        "a=10\n",
        "b=20\n",
        "print(a is b)\n",
        "print(a is not b)"
      ],
      "metadata": {
        "colab": {
          "base_uri": "https://localhost:8080/"
        },
        "id": "o64Vwcx0vrmX",
        "outputId": "c4d43ef5-6639-4a44-9393-4a80e0b5fdad"
      },
      "execution_count": 60,
      "outputs": [
        {
          "output_type": "stream",
          "name": "stdout",
          "text": [
            "False\n",
            "True\n"
          ]
        }
      ]
    },
    {
      "cell_type": "markdown",
      "source": [
        "14. Demonstrate Negative indexing for List and apply slicing."
      ],
      "metadata": {
        "id": "uDOy9pS2v8Oi"
      }
    },
    {
      "cell_type": "code",
      "source": [
        "l=[1,2,3,4]\n",
        "print(l[-1])\n",
        "print(l[-1::-1])\n",
        "print(l[:])\n",
        "print(l[0:])\n",
        "print(l[1:3:1])\n"
      ],
      "metadata": {
        "colab": {
          "base_uri": "https://localhost:8080/"
        },
        "id": "iiGB7LyMwDvB",
        "outputId": "c30b1f9f-e3c6-40c0-f234-cc7860441de8"
      },
      "execution_count": 65,
      "outputs": [
        {
          "output_type": "stream",
          "name": "stdout",
          "text": [
            "4\n",
            "[4, 3, 2, 1]\n",
            "[1, 2, 3, 4]\n",
            "[1, 2, 3, 4]\n",
            "[2, 3]\n"
          ]
        }
      ]
    },
    {
      "cell_type": "markdown",
      "source": [
        "15. Predict the output for the given code snippet and justify the result.\n"
      ],
      "metadata": {
        "id": "5mDy-5PQzV8e"
      }
    },
    {
      "cell_type": "code",
      "source": [
        "print('A series of characters designated as one object known as a string'[::-1][4::3])\n",
        "print(\"..............\")\n",
        "print('Welcome to python traing program'[3:10][::-1])"
      ],
      "metadata": {
        "colab": {
          "base_uri": "https://localhost:8080/"
        },
        "id": "t2daIhDqzWzV",
        "outputId": "2338483a-76db-4906-e38f-762d66e99414"
      },
      "execution_count": 68,
      "outputs": [
        {
          "output_type": "stream",
          "name": "stdout",
          "text": [
            "taawkcbe  tgestrcoeeA\n",
            "gnirts a sa nwonk tcejbo eno sa detangised sretcarahc fo seires A\n",
            "..............\n",
            "ot emoc\n"
          ]
        }
      ]
    },
    {
      "cell_type": "markdown",
      "source": [
        "16. Write a python code to get desired output,\n",
        "Input string:p_phrase=\"was it a car or a cat I saw\",\n",
        "Output string:WAS I TAC A RO RAC A TI SAW"
      ],
      "metadata": {
        "id": "UvP7XxxQ0oNA"
      }
    },
    {
      "cell_type": "code",
      "source": [
        "s=\"was it a car or a cat I saw\"\n",
        "k=s[::-1]\n",
        "print(k.upper())"
      ],
      "metadata": {
        "colab": {
          "base_uri": "https://localhost:8080/"
        },
        "id": "SwXmGcCx1R_t",
        "outputId": "2b36d49d-cbc0-4728-b35e-cfea8a1ba861"
      },
      "execution_count": 70,
      "outputs": [
        {
          "output_type": "stream",
          "name": "stdout",
          "text": [
            "WAS I TAC A RO RAC A TI SAW\n"
          ]
        }
      ]
    },
    {
      "cell_type": "markdown",
      "source": [
        "17. You are required to generate a word similar to ZOO, X and Y that denote the number\n",
        "of Zs and Os respectively. The generated word similar to ZOO where Y= 2 * X.\n",
        " Input X= 2 Output ZZOOOO\n",
        " Input X= 5 Output ZZZZZOOOOOOOOOO"
      ],
      "metadata": {
        "id": "z0l5qZc-2-bs"
      }
    },
    {
      "cell_type": "code",
      "source": [
        "x='z'\n",
        "y='o'\n",
        "x1=int(input('Enter how many times u want z'))\n",
        "y1=2*x1\n",
        "for i in range(0,x1):\n",
        "  print(x,end='')\n",
        "for i in range(0,y1):\n",
        "  print(y,end='')\n"
      ],
      "metadata": {
        "colab": {
          "base_uri": "https://localhost:8080/"
        },
        "id": "Y3Rxlk-82C3u",
        "outputId": "08a8b91b-b5c1-41f0-f7d4-20db8b20dd1a"
      },
      "execution_count": 73,
      "outputs": [
        {
          "output_type": "stream",
          "name": "stdout",
          "text": [
            "Enter how many times u want z5\n",
            "zzzzzoooooooooo"
          ]
        }
      ]
    }
  ]
}