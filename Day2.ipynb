{
  "nbformat": 4,
  "nbformat_minor": 0,
  "metadata": {
    "colab": {
      "name": "Day2.ipynb",
      "provenance": [],
      "collapsed_sections": [],
      "authorship_tag": "ABX9TyPH3bFNiSr4EMGYgzJhNYMS",
      "include_colab_link": true
    },
    "kernelspec": {
      "name": "python3",
      "display_name": "Python 3"
    },
    "language_info": {
      "name": "python"
    }
  },
  "cells": [
    {
      "cell_type": "markdown",
      "metadata": {
        "id": "view-in-github",
        "colab_type": "text"
      },
      "source": [
        "<a href=\"https://colab.research.google.com/github/Karthik-kudikilla/2216116-AIML/blob/main/Day2.ipynb\" target=\"_parent\"><img src=\"https://colab.research.google.com/assets/colab-badge.svg\" alt=\"Open In Colab\"/></a>"
      ]
    },
    {
      "cell_type": "code",
      "execution_count": 1,
      "metadata": {
        "colab": {
          "base_uri": "https://localhost:8080/"
        },
        "id": "RauehqTQcy6R",
        "outputId": "0ffd0af6-c572-4a49-e566-aa13e22449a7"
      },
      "outputs": [
        {
          "output_type": "stream",
          "name": "stdout",
          "text": [
            "[17, 15, 4]\n",
            "[5, 6, 6]\n",
            "[12, 11, 16]\n"
          ]
        }
      ],
      "source": [
        "#nested loops\n",
        "\n",
        "x=[[12,7,3],\n",
        "  [4,5,6],\n",
        "  [7,8,9]]\n",
        "\n",
        "y=[[5,8,1],\n",
        "   [1,1,0],\n",
        "   [5,3,7]]\n",
        "\n",
        "res=[[0,0,0],[0,0,0],[0,0,0]]\n",
        "\n",
        "for i in range(len(x)):\n",
        "    for j in range(len(x[0])):\n",
        "        res[i][j]=x[i][j]+y[i][j]\n",
        "for r in res:\n",
        "    print(r)"
      ]
    },
    {
      "cell_type": "code",
      "source": [
        "#Printing upto n tables\n",
        "num=int(input(\"Enter the last table u want:\"))\n",
        "i=1\n",
        "while(i<=num):\n",
        "    print(f\"TABLE {i}\") #raw string\n",
        "    j=1\n",
        "    while(j<=10):\n",
        "        print(f\"{i}*{j}={i*j}\")\n",
        "        j=j+1\n",
        "    print(\"----------------------\")\n",
        "    i+=1"
      ],
      "metadata": {
        "colab": {
          "base_uri": "https://localhost:8080/"
        },
        "id": "hxViW7CpdGu0",
        "outputId": "ce57ab85-f70a-48e3-c09d-71d1154d1066"
      },
      "execution_count": 2,
      "outputs": [
        {
          "output_type": "stream",
          "name": "stdout",
          "text": [
            "Enter the last table u want:5\n",
            "TABLE 1\n",
            "1*1=1\n",
            "1*2=2\n",
            "1*3=3\n",
            "1*4=4\n",
            "1*5=5\n",
            "1*6=6\n",
            "1*7=7\n",
            "1*8=8\n",
            "1*9=9\n",
            "1*10=10\n",
            "----------------------\n",
            "TABLE 2\n",
            "2*1=2\n",
            "2*2=4\n",
            "2*3=6\n",
            "2*4=8\n",
            "2*5=10\n",
            "2*6=12\n",
            "2*7=14\n",
            "2*8=16\n",
            "2*9=18\n",
            "2*10=20\n",
            "----------------------\n",
            "TABLE 3\n",
            "3*1=3\n",
            "3*2=6\n",
            "3*3=9\n",
            "3*4=12\n",
            "3*5=15\n",
            "3*6=18\n",
            "3*7=21\n",
            "3*8=24\n",
            "3*9=27\n",
            "3*10=30\n",
            "----------------------\n",
            "TABLE 4\n",
            "4*1=4\n",
            "4*2=8\n",
            "4*3=12\n",
            "4*4=16\n",
            "4*5=20\n",
            "4*6=24\n",
            "4*7=28\n",
            "4*8=32\n",
            "4*9=36\n",
            "4*10=40\n",
            "----------------------\n",
            "TABLE 5\n",
            "5*1=5\n",
            "5*2=10\n",
            "5*3=15\n",
            "5*4=20\n",
            "5*5=25\n",
            "5*6=30\n",
            "5*7=35\n",
            "5*8=40\n",
            "5*9=45\n",
            "5*10=50\n",
            "----------------------\n"
          ]
        }
      ]
    },
    {
      "cell_type": "code",
      "source": [
        "#Control stmts\n",
        "#break\n",
        "\n",
        "for l in 'python':\n",
        "    if l =='h':\n",
        "        break\n",
        "    print(\"Current letter:\",l)\n",
        "print(\"\\n\")\n",
        "\n",
        "#continue\n",
        "int1=10\n",
        "while(int1>0):\n",
        "    print(\"Current value:\",int1)\n",
        "    int1-=1\n",
        "    if int1==5:\n",
        "        continue\n",
        "print(\"\\n\")"
      ],
      "metadata": {
        "colab": {
          "base_uri": "https://localhost:8080/"
        },
        "id": "BX03yNymdZCB",
        "outputId": "fd400509-8a7a-4cc3-cb8e-bc236af9d8f8"
      },
      "execution_count": 3,
      "outputs": [
        {
          "output_type": "stream",
          "name": "stdout",
          "text": [
            "Current letter: p\n",
            "Current letter: y\n",
            "Current letter: t\n",
            "\n",
            "\n",
            "Current value: 10\n",
            "Current value: 9\n",
            "Current value: 8\n",
            "Current value: 7\n",
            "Current value: 6\n",
            "Current value: 5\n",
            "Current value: 4\n",
            "Current value: 3\n",
            "Current value: 2\n",
            "Current value: 1\n",
            "\n",
            "\n"
          ]
        }
      ]
    },
    {
      "cell_type": "code",
      "source": [
        "#Control stmts\n",
        "#break\n",
        "\n",
        "for l in 'python':\n",
        "    if l =='h':\n",
        "        pass\n",
        "        print(\"This is pass block\")\n",
        "    print(l)\n",
        "print(\"\\n\")\n",
        "\n",
        "int1=10\n",
        "while(int1>0):\n",
        "    print(\"Current value:\",int1)\n",
        "    int1-=1\n",
        "    if int1==5:\n",
        "        continue\n",
        "print(\"\\n\")"
      ],
      "metadata": {
        "colab": {
          "base_uri": "https://localhost:8080/"
        },
        "id": "ZijDbIdDdgTA",
        "outputId": "d09adb42-cef1-4376-eb3c-e6f56a6412cc"
      },
      "execution_count": 4,
      "outputs": [
        {
          "output_type": "stream",
          "name": "stdout",
          "text": [
            "p\n",
            "y\n",
            "t\n",
            "This is pass block\n",
            "h\n",
            "o\n",
            "n\n",
            "\n",
            "\n",
            "Current value: 10\n",
            "Current value: 9\n",
            "Current value: 8\n",
            "Current value: 7\n",
            "Current value: 6\n",
            "Current value: 5\n",
            "Current value: 4\n",
            "Current value: 3\n",
            "Current value: 2\n",
            "Current value: 1\n",
            "\n",
            "\n"
          ]
        }
      ]
    },
    {
      "cell_type": "code",
      "source": [
        "n=input(\"Enter the number:\")\n",
        "m=n[::-1]\n",
        "if(n==m):\n",
        "    print(\"Its Palindrome\")\n",
        "else:\n",
        "    print(\"Not a palindrome\")"
      ],
      "metadata": {
        "colab": {
          "base_uri": "https://localhost:8080/"
        },
        "id": "moSAAVcsdtVM",
        "outputId": "6cc7e51c-0e37-4f59-9af5-3a12ad521060"
      },
      "execution_count": 5,
      "outputs": [
        {
          "output_type": "stream",
          "name": "stdout",
          "text": [
            "Enter the number:121\n",
            "Its Palindrome\n"
          ]
        }
      ]
    },
    {
      "cell_type": "code",
      "source": [
        "for n in range(100):\n",
        "    m=str(n)\n",
        "    if(m==m[::-1]):\n",
        "        print(n,\"=Palindrome\")"
      ],
      "metadata": {
        "colab": {
          "base_uri": "https://localhost:8080/"
        },
        "id": "CU92FvEcd42g",
        "outputId": "93a1327b-88fb-48f3-91bc-5b459459e890"
      },
      "execution_count": 6,
      "outputs": [
        {
          "output_type": "stream",
          "name": "stdout",
          "text": [
            "0 =Palindrome\n",
            "1 =Palindrome\n",
            "2 =Palindrome\n",
            "3 =Palindrome\n",
            "4 =Palindrome\n",
            "5 =Palindrome\n",
            "6 =Palindrome\n",
            "7 =Palindrome\n",
            "8 =Palindrome\n",
            "9 =Palindrome\n",
            "11 =Palindrome\n",
            "22 =Palindrome\n",
            "33 =Palindrome\n",
            "44 =Palindrome\n",
            "55 =Palindrome\n",
            "66 =Palindrome\n",
            "77 =Palindrome\n",
            "88 =Palindrome\n",
            "99 =Palindrome\n"
          ]
        }
      ]
    },
    {
      "cell_type": "code",
      "source": [
        "l=[1,2,3,4,5,6,7,8,9,10]\n",
        "e=[]\n",
        "o=[]\n",
        "for i in range(len(l)):\n",
        "    if i%2==0:\n",
        "        e.append(i)\n",
        "    else:\n",
        "        o.append(i)\n",
        "print(e)\n",
        "print(o)"
      ],
      "metadata": {
        "colab": {
          "base_uri": "https://localhost:8080/"
        },
        "id": "YVT4XGBdd7U8",
        "outputId": "e84398cb-7519-4c09-a814-204b4b11058f"
      },
      "execution_count": 7,
      "outputs": [
        {
          "output_type": "stream",
          "name": "stdout",
          "text": [
            "[0, 2, 4, 6, 8]\n",
            "[1, 3, 5, 7, 9]\n"
          ]
        }
      ]
    },
    {
      "cell_type": "code",
      "source": [
        "'''Write a python program that generates desired output i.e,\n",
        "from countries list select out the country names that contain\n",
        "string “and”\n",
        "\n",
        "Countries_list=[“Finland”,”Germany”,”Sweden”,”Ireland”,”Turkey”]\n",
        "Output: [“Finland”,”Ireland”]'''\n",
        "\n",
        "c=[\"Finland\",\"Germany\",\"Sweden\",\"Ireland\",\"Turkey\"]\n",
        "output=[]\n",
        "for i in c:\n",
        "    if 'and' in i:\n",
        "        output.append(i)\n",
        "print(output)"
      ],
      "metadata": {
        "colab": {
          "base_uri": "https://localhost:8080/"
        },
        "id": "n6MR-oKEeFaJ",
        "outputId": "05f9d331-4dde-4182-9477-28f246005ebf"
      },
      "execution_count": 8,
      "outputs": [
        {
          "output_type": "stream",
          "name": "stdout",
          "text": [
            "['Finland', 'Ireland']\n"
          ]
        }
      ]
    },
    {
      "cell_type": "code",
      "source": [
        "'''Write a python program that print respective grades of student:\n",
        "Grade – Outstanding  for marks>=90\n",
        "Grade A+ for marks >=80, <90\n",
        "Grade A for marks >=70, <80\n",
        "Grade B for marks >=60 and <70\n",
        "\n",
        "<60 Grade C'''\n",
        "\n",
        "marks=int(input(\"Enter your marks\"))\n",
        "if marks >=90 and marks<=100:\n",
        "    print(\"Grade=O\")\n",
        "elif marks >=80 and marks<90:\n",
        "    print(\"Grade=A+\")\n",
        "elif marks >=70 and marks<80:\n",
        "    print(\"Grade=A\")\n",
        "elif marks >=60 and marks<70:\n",
        "    print(\"Grade=B\")\n",
        "elif marks<60:\n",
        "    print(\"Grade=C\")\n",
        "else:\n",
        "    print(\"Enter valid marks\")"
      ],
      "metadata": {
        "colab": {
          "base_uri": "https://localhost:8080/"
        },
        "id": "hyclAoSqeNaX",
        "outputId": "9b5aadcd-de39-4044-bb42-d9c737ba28a5"
      },
      "execution_count": 9,
      "outputs": [
        {
          "output_type": "stream",
          "name": "stdout",
          "text": [
            "Enter your marks95\n",
            "Grade=O\n"
          ]
        }
      ]
    },
    {
      "cell_type": "code",
      "source": [
        "'''Create a list with name state list with 5 elements\n",
        "State_list = [“Delhi”,”Telangana”,”Goa”,”AP”,”Kerala”]\n",
        "Write a python program that extract first and last characters of each item and print in desired format.\n",
        "Input: [“Delhi”,”Telangana”,”Goa”,”AP”,”Kerala”\n",
        "Output: dItAgAaOkA '''\n",
        "\n",
        "inp=[\"Delhi\",\"Telangana\",\"Goa\",\"AP\",\"Kerala\"]\n",
        "out=[]\n",
        "for s in inp:\n",
        "    out.append(s[0])\n",
        "    out.append(s[len(s)-1])\n",
        "print(out)\n",
        "str=\"\".join(out)\n",
        "#print(str)\n",
        "print(str.swapcase())"
      ],
      "metadata": {
        "colab": {
          "base_uri": "https://localhost:8080/"
        },
        "id": "-lunH05DeUYA",
        "outputId": "ef63869c-a8ca-4a94-a706-b471ab3edebd"
      },
      "execution_count": 10,
      "outputs": [
        {
          "output_type": "stream",
          "name": "stdout",
          "text": [
            "['D', 'i', 'T', 'a', 'G', 'a', 'A', 'P', 'K', 'a']\n",
            "dItAgAapkA\n"
          ]
        }
      ]
    },
    {
      "cell_type": "code",
      "source": [
        "'''Create a list with name state list with 5 elements\n",
        "State_list = [“Delhi”,”Telangana”,”Goa”,”AP”,”Kerala”]\n",
        "Write a python program that extract first and last characters of each item and print in desired format.\n",
        "Input: [“Delhi”,”Telangana”,”Goa”,”AP”,”Kerala”\n",
        "Output: dItAgAaOkA '''\n",
        "\n",
        "inp=[\"Delhi\",\"Telangana\",\"Goa\",\"AP\",\"Kerala\"]\n",
        "str=\"\"\n",
        "for i in inp:\n",
        "    str+=i[0].swapcase()+i[-1].swapcase()\n",
        "print(str)\n"
      ],
      "metadata": {
        "colab": {
          "base_uri": "https://localhost:8080/"
        },
        "id": "b7YyT_AOeW5e",
        "outputId": "33ea01f4-bc09-4f6d-a4d8-3544db2b1df5"
      },
      "execution_count": 11,
      "outputs": [
        {
          "output_type": "stream",
          "name": "stdout",
          "text": [
            "dItAgAapkA\n"
          ]
        }
      ]
    },
    {
      "cell_type": "code",
      "source": [
        "def greet(name):\n",
        "    print(f\"Hello,\\t {name} \\tGM\")\n",
        "greet(\"Karthik\")"
      ],
      "metadata": {
        "colab": {
          "base_uri": "https://localhost:8080/"
        },
        "id": "l2QhGCEYeg68",
        "outputId": "a587db7f-c471-4ec6-d4a1-4b8d23eee4bb"
      },
      "execution_count": 12,
      "outputs": [
        {
          "output_type": "stream",
          "name": "stdout",
          "text": [
            "Hello,\t Karthik \tGM\n"
          ]
        }
      ]
    },
    {
      "cell_type": "code",
      "source": [
        "#arbitrary keyword\n",
        "def key_arg(**kwargs):\n",
        "    return kwargs\n",
        "my_dict=key_arg(apples=10,oranges=20,bananas=30)\n",
        "print(my_dict)"
      ],
      "metadata": {
        "colab": {
          "base_uri": "https://localhost:8080/"
        },
        "id": "xWJOu6lpeo3K",
        "outputId": "c0a35c40-ba61-4c77-c152-4e006c12c529"
      },
      "execution_count": 13,
      "outputs": [
        {
          "output_type": "stream",
          "name": "stdout",
          "text": [
            "{'apples': 10, 'oranges': 20, 'bananas': 30}\n"
          ]
        }
      ]
    },
    {
      "cell_type": "code",
      "source": [
        "#lambda\n",
        "\n",
        "res=lambda x:x+1\n",
        "print(res(4))\n",
        "\n",
        "print((lambda x,y:x**y)(2,3))"
      ],
      "metadata": {
        "colab": {
          "base_uri": "https://localhost:8080/"
        },
        "id": "8I73GgWLetT1",
        "outputId": "bf365fac-9ffa-49ea-99a4-9f017a96758a"
      },
      "execution_count": 14,
      "outputs": [
        {
          "output_type": "stream",
          "name": "stdout",
          "text": [
            "5\n",
            "8\n"
          ]
        }
      ]
    },
    {
      "cell_type": "code",
      "source": [
        "# mapping\n",
        "\n",
        "li=[1,2,3,4,5]\n",
        "#res=lambdax:x+2\n",
        "#print(res(li))"
      ],
      "metadata": {
        "id": "Qmg6SDKdeyoW"
      },
      "execution_count": 15,
      "outputs": []
    },
    {
      "cell_type": "code",
      "source": [
        "def inc(num):\n",
        "    return num+2\n",
        "res_list=list(map(inc,li))\n",
        "print(res_list)\n",
        "\n",
        "res_list1=list(map(lambda x:x+2,li))\n",
        "print(res_list1)\n",
        "\n",
        "print(list(map(lambda x:x+2,li)))"
      ],
      "metadata": {
        "colab": {
          "base_uri": "https://localhost:8080/"
        },
        "id": "dQD7jVzOe2kF",
        "outputId": "b453d900-54db-4a3b-cb33-ac91c74ba557"
      },
      "execution_count": 16,
      "outputs": [
        {
          "output_type": "stream",
          "name": "stdout",
          "text": [
            "[3, 4, 5, 6, 7]\n",
            "[3, 4, 5, 6, 7]\n",
            "[3, 4, 5, 6, 7]\n"
          ]
        }
      ]
    },
    {
      "cell_type": "code",
      "source": [
        "li=[1,2,3,4,5,6,7,8,9,10]\n",
        "print(list(map(lambda x:x%2==0,li)))\n",
        "print(list(map(lambda x:x%2==1,li)))"
      ],
      "metadata": {
        "colab": {
          "base_uri": "https://localhost:8080/"
        },
        "id": "hZCs39gle4s-",
        "outputId": "3d837093-6c55-47b2-cf41-912f1004abd0"
      },
      "execution_count": 17,
      "outputs": [
        {
          "output_type": "stream",
          "name": "stdout",
          "text": [
            "[False, True, False, True, False, True, False, True, False, True]\n",
            "[True, False, True, False, True, False, True, False, True, False]\n"
          ]
        }
      ]
    },
    {
      "cell_type": "code",
      "source": [
        "li=['apple','banana','grapes']\n",
        "list(map(lambda x:x.capitalize(),li)) # or titile()"
      ],
      "metadata": {
        "colab": {
          "base_uri": "https://localhost:8080/"
        },
        "id": "7t-uUCOzfCKd",
        "outputId": "54d1827e-3f98-4feb-f008-57785d43d961"
      },
      "execution_count": 18,
      "outputs": [
        {
          "output_type": "execute_result",
          "data": {
            "text/plain": [
              "['Apple', 'Banana', 'Grapes']"
            ]
          },
          "metadata": {},
          "execution_count": 18
        }
      ]
    },
    {
      "cell_type": "code",
      "source": [
        "#filter\n",
        "\n",
        "def odd_num(n):\n",
        "    if n%2!=0:\n",
        "        return n\n",
        "my_list=[9,26,35,-2,-1,0]\n",
        "list(filter(odd_num,my_list))\n",
        "\n",
        "my_list=[12,34,71,91,83,22,34,99,100]\n",
        "temp=list(filter(lambda x:x%2==0,my_list))\n",
        "print(temp)"
      ],
      "metadata": {
        "colab": {
          "base_uri": "https://localhost:8080/"
        },
        "id": "-38HIC2MfLYa",
        "outputId": "198bf5ed-bca8-4497-ca2c-beef7be1589f"
      },
      "execution_count": 19,
      "outputs": [
        {
          "output_type": "stream",
          "name": "stdout",
          "text": [
            "[12, 34, 22, 34, 100]\n"
          ]
        }
      ]
    },
    {
      "cell_type": "markdown",
      "source": [
        "Module"
      ],
      "metadata": {
        "id": "6kLSouJSfQiC"
      }
    },
    {
      "cell_type": "code",
      "source": [
        "import os\n",
        "os.mkdir(\"Hi\")\n",
        "os.chdir(\"Hi\")\n",
        "os.getcwd()\n",
        "os.listdir()\n",
        "os.rmdir(\"/content/hi\")"
      ],
      "metadata": {
        "colab": {
          "base_uri": "https://localhost:8080/",
          "height": 200
        },
        "id": "_mBzASY_fSYK",
        "outputId": "6d4a3bca-346b-4d6d-fbe0-ff4c33bfcbe8"
      },
      "execution_count": 20,
      "outputs": [
        {
          "output_type": "error",
          "ename": "FileNotFoundError",
          "evalue": "ignored",
          "traceback": [
            "\u001b[0;31m---------------------------------------------------------------------------\u001b[0m",
            "\u001b[0;31mFileNotFoundError\u001b[0m                         Traceback (most recent call last)",
            "\u001b[0;32m<ipython-input-20-386f97cb4783>\u001b[0m in \u001b[0;36m<module>\u001b[0;34m()\u001b[0m\n\u001b[1;32m      4\u001b[0m \u001b[0mos\u001b[0m\u001b[0;34m.\u001b[0m\u001b[0mgetcwd\u001b[0m\u001b[0;34m(\u001b[0m\u001b[0;34m)\u001b[0m\u001b[0;34m\u001b[0m\u001b[0;34m\u001b[0m\u001b[0m\n\u001b[1;32m      5\u001b[0m \u001b[0mos\u001b[0m\u001b[0;34m.\u001b[0m\u001b[0mlistdir\u001b[0m\u001b[0;34m(\u001b[0m\u001b[0;34m)\u001b[0m\u001b[0;34m\u001b[0m\u001b[0;34m\u001b[0m\u001b[0m\n\u001b[0;32m----> 6\u001b[0;31m \u001b[0mos\u001b[0m\u001b[0;34m.\u001b[0m\u001b[0mrmdir\u001b[0m\u001b[0;34m(\u001b[0m\u001b[0;34m\"/content/hi\"\u001b[0m\u001b[0;34m)\u001b[0m\u001b[0;34m\u001b[0m\u001b[0;34m\u001b[0m\u001b[0m\n\u001b[0m",
            "\u001b[0;31mFileNotFoundError\u001b[0m: [Errno 2] No such file or directory: '/content/hi'"
          ]
        }
      ]
    },
    {
      "cell_type": "code",
      "source": [
        "# math module\n",
        "import math as m\n",
        "print(m.pi)\n",
        "print(m.e)\n",
        "print(m.sqrt(3))\n",
        "print(m.floor(7.1))\n",
        "print(m.ceil(7.1))"
      ],
      "metadata": {
        "colab": {
          "base_uri": "https://localhost:8080/"
        },
        "id": "CjstwDmLfZlf",
        "outputId": "d5bd7612-63d6-4d74-e0f0-0fd2e71d42a9"
      },
      "execution_count": 21,
      "outputs": [
        {
          "output_type": "stream",
          "name": "stdout",
          "text": [
            "3.141592653589793\n",
            "2.718281828459045\n",
            "1.7320508075688772\n",
            "7\n",
            "8\n"
          ]
        }
      ]
    },
    {
      "cell_type": "code",
      "source": [
        "#sys module\n",
        "import sys\n",
        "print(sys.path)\n",
        "print(sys.version)\n",
        "print(sys.maxsize)"
      ],
      "metadata": {
        "colab": {
          "base_uri": "https://localhost:8080/"
        },
        "id": "qe-aJ8wGffRY",
        "outputId": "c12c9ee4-d1e4-430c-b172-ff600924daff"
      },
      "execution_count": 22,
      "outputs": [
        {
          "output_type": "stream",
          "name": "stdout",
          "text": [
            "['', '/content', '/env/python', '/usr/lib/python37.zip', '/usr/lib/python3.7', '/usr/lib/python3.7/lib-dynload', '/usr/local/lib/python3.7/dist-packages', '/usr/lib/python3/dist-packages', '/usr/local/lib/python3.7/dist-packages/IPython/extensions', '/root/.ipython']\n",
            "3.7.13 (default, Apr 24 2022, 01:04:09) \n",
            "[GCC 7.5.0]\n",
            "9223372036854775807\n"
          ]
        }
      ]
    },
    {
      "cell_type": "code",
      "source": [
        "import statistics as st\n",
        "print(st.mean([1,2,3,4,5]))\n",
        "print(st.median([1,2,3,4,5]))\n",
        "print(st.mode([1,2,3,4,5,1]))"
      ],
      "metadata": {
        "colab": {
          "base_uri": "https://localhost:8080/"
        },
        "id": "Elccm9N7fmSv",
        "outputId": "bf8b1823-0d00-43f7-beb5-604068ebcf0c"
      },
      "execution_count": 25,
      "outputs": [
        {
          "output_type": "stream",
          "name": "stdout",
          "text": [
            "3\n",
            "3\n",
            "1\n"
          ]
        }
      ]
    },
    {
      "cell_type": "code",
      "source": [
        "#time module\n",
        "import time\n",
        "print(time.time())\n",
        "print(time.localtime())\n",
        "print(time.asctime())\n",
        "print(time.ctime())\n",
        "print(time.sleep(1.5))"
      ],
      "metadata": {
        "colab": {
          "base_uri": "https://localhost:8080/"
        },
        "id": "eQr6BnQDf0b4",
        "outputId": "7593bc1d-8ad6-42ec-8087-7f02e1bb5bd5"
      },
      "execution_count": 26,
      "outputs": [
        {
          "output_type": "stream",
          "name": "stdout",
          "text": [
            "1655214936.8429213\n",
            "time.struct_time(tm_year=2022, tm_mon=6, tm_mday=14, tm_hour=13, tm_min=55, tm_sec=36, tm_wday=1, tm_yday=165, tm_isdst=0)\n",
            "Tue Jun 14 13:55:36 2022\n",
            "Tue Jun 14 13:55:36 2022\n",
            "None\n"
          ]
        }
      ]
    },
    {
      "cell_type": "code",
      "source": [
        "#random module\n",
        "import random\n",
        "print(random.randrange(1,50))\n",
        "print(random.randint(1,50))\n",
        "print(random.random())"
      ],
      "metadata": {
        "colab": {
          "base_uri": "https://localhost:8080/"
        },
        "id": "yYCfkcdIf6k9",
        "outputId": "8c015e61-4aec-48ec-e712-b5e19ab4a034"
      },
      "execution_count": 27,
      "outputs": [
        {
          "output_type": "stream",
          "name": "stdout",
          "text": [
            "15\n",
            "35\n",
            "0.03234321649605565\n"
          ]
        }
      ]
    },
    {
      "cell_type": "code",
      "source": [
        "#Game with random module\n",
        "\n",
        "import random\n",
        "g_num=random.randint(0,5)\n",
        "g2_num=int(input(\"Guess...!\"))\n",
        "if g2_num==g_num:\n",
        "    print(\"Hurrah...!\")\n",
        "else:\n",
        "    print(\"LOST\")"
      ],
      "metadata": {
        "colab": {
          "base_uri": "https://localhost:8080/"
        },
        "id": "CK0vWclAgBA-",
        "outputId": "f160540b-c42d-4ded-d019-c9c1b6442863"
      },
      "execution_count": 28,
      "outputs": [
        {
          "output_type": "stream",
          "name": "stdout",
          "text": [
            "Guess...!5\n",
            "LOST\n"
          ]
        }
      ]
    },
    {
      "cell_type": "code",
      "source": [
        "'''Write a python program that remove items that are multiples of 5 from list:li=[1,2,5,6,7,10,15,25,65,78,90]o/p: [1,2,6,7,78]\n",
        "'''\n",
        "li=[1,2,5,6,7,10,15,25,65,78,90]\n",
        "print(list(filter(lambda x:x%5!=0,li)))"
      ],
      "metadata": {
        "colab": {
          "base_uri": "https://localhost:8080/"
        },
        "id": "j9gt-dH9gHFv",
        "outputId": "87b01d59-c264-40d2-c3a5-12711dc7a938"
      },
      "execution_count": 29,
      "outputs": [
        {
          "output_type": "stream",
          "name": "stdout",
          "text": [
            "[1, 2, 6, 7, 78]\n"
          ]
        }
      ]
    },
    {
      "cell_type": "code",
      "source": [
        "'''Write a python program that generates desired output from fruits list. Filter out the fruits names that don’t start with ‘A’\n",
        "Fruit=[“Apple”,”Banana”,”Pear”,”Avacado”,”Orange”,”Amla”]\n",
        "Output: [“Apple”,”Avacado”,”Amla”]'''\n",
        "\n",
        "fruit=[\"Apple\",\"Banana\",\"Pear\",\"Avacado\",\"Orange\",\"Amla\"]\n",
        "res=list(filter(lambda x:x.startswith('A'),fruit))\n",
        "print(res)"
      ],
      "metadata": {
        "colab": {
          "base_uri": "https://localhost:8080/"
        },
        "id": "xKjiWwYCgLww",
        "outputId": "6f08627d-6e53-4dca-8566-c7983d915c4d"
      },
      "execution_count": 30,
      "outputs": [
        {
          "output_type": "stream",
          "name": "stdout",
          "text": [
            "['Apple', 'Avacado', 'Amla']\n"
          ]
        }
      ]
    },
    {
      "cell_type": "code",
      "source": [
        "'''Msg=”Welcome to gradstellar bootcamp”\n",
        "X=”number of occurrences of ‘o’ in msg”\n",
        "Y=”number of occurrences of ‘e’ in msg”\n",
        "Compute (X+Y)2'''\n",
        "\n",
        "msg=\"Welcome to gradstellar bootcamp\"\n",
        "x=msg.count('o')\n",
        "y=msg.count('e')\n",
        "print((x+y)**2)"
      ],
      "metadata": {
        "colab": {
          "base_uri": "https://localhost:8080/"
        },
        "id": "8BziisUggQdp",
        "outputId": "3c42692e-856f-4752-d6d3-1274a238acb7"
      },
      "execution_count": 31,
      "outputs": [
        {
          "output_type": "stream",
          "name": "stdout",
          "text": [
            "49\n"
          ]
        }
      ]
    },
    {
      "cell_type": "code",
      "source": [
        "'''Write python program that filters a list by removing the elements that not start with vowel. \n",
        "I/P: [‘apple’,’orange’,’grapes’,’ball’,’bat’,’umbrella’]\n",
        "O/P: [‘apple’,’orange’,’umbrella’]'''\n",
        "\n",
        "inp=[\"apple\",\"orange\",\"grapes\",\"ball\",\"bat\",\"umbrella\"]\n",
        "print(list(filter(lambda x:x[0] in 'AEIOUaeiou',inp)))\n",
        "    "
      ],
      "metadata": {
        "colab": {
          "base_uri": "https://localhost:8080/"
        },
        "id": "C2uCESeQgVJG",
        "outputId": "deb1b2f9-f146-4f3c-856b-a82eef017c6a"
      },
      "execution_count": 32,
      "outputs": [
        {
          "output_type": "stream",
          "name": "stdout",
          "text": [
            "['apple', 'orange', 'umbrella']\n"
          ]
        }
      ]
    },
    {
      "cell_type": "code",
      "source": [
        "'''Write a python program that displays unique element in a given list using function\n",
        "Li=[56,78,32,45,45,45,19,20]\n",
        "O/P: [56,78,32,45,19,20]'''\n",
        "\n",
        "li=[56,78,32,45,45,45,19,20]\n",
        "print(set(li))"
      ],
      "metadata": {
        "colab": {
          "base_uri": "https://localhost:8080/"
        },
        "id": "qF_xJjjXgb1p",
        "outputId": "ff4c1fe7-3b51-4a82-b1e4-34898c867c13"
      },
      "execution_count": 33,
      "outputs": [
        {
          "output_type": "stream",
          "name": "stdout",
          "text": [
            "{32, 45, 78, 19, 20, 56}\n"
          ]
        }
      ]
    }
  ]
}